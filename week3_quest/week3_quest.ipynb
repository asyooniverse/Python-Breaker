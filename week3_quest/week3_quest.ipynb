{
 "cells": [
  {
   "cell_type": "code",
   "execution_count": 4,
   "id": "8c4c5dfa-3612-43c6-ad8c-81e63cc81495",
   "metadata": {},
   "outputs": [
    {
     "name": "stdout",
     "output_type": "stream",
     "text": [
      "output : [2, 4, 14, 16, 20, 43]\n"
     ]
    }
   ],
   "source": [
    "# 1. 로또 번호 생성기 함수\n",
    "import random\n",
    "\n",
    "def lotto():\n",
    "    lotto_number = (random.sample(range(1,46),6)) # random모듈의 sample함수는 지정된 범위로부터 원하는 개수만큼 랜덤 추출을 하는 함수\n",
    "    print(f\"output : {sorted(lotto_number)}\") # 정렬을 위해 sorted로 출력\n",
    "\n",
    "lotto()"
   ]
  },
  {
   "cell_type": "code",
   "execution_count": 5,
   "id": "0791c250-3c44-4e47-8319-ca598a51a05a",
   "metadata": {},
   "outputs": [
    {
     "name": "stdin",
     "output_type": "stream",
     "text": [
      "input :  python\n"
     ]
    },
    {
     "name": "stdout",
     "output_type": "stream",
     "text": [
      "\n",
      "output : \n",
      "문자의 개수 : 6\n",
      "가장 큰 문자열 : y\n",
      "뒤집은 문자열 : nohtyp\n"
     ]
    }
   ],
   "source": [
    "# 2. 문자열 분석 함수\n",
    "def string_analysis():\n",
    "    input_string = input(\"input : \")\n",
    "    \n",
    "    print(\"\\noutput : \")\n",
    "    print(f\"문자의 개수 : {len(input_string)}\") # 문자열의 길이를 반환하는 내장함수 len\n",
    "    print(f\"가장 큰 문자열 : {max(input_string)}\") # 문자열의 가장 큰 문자를 반환하는 내장함수 max\n",
    "    print(f\"뒤집은 문자열 : {''.join(list(reversed(input_string)))}\") # 문자열을 뒤집은 내장함수 reversed\n",
    "    # [::-1]와 reverse를 사용하지 않은 이유: list, reversed 내장함수를 사용하기 위해\n",
    "\n",
    "string_analysis()"
   ]
  },
  {
   "cell_type": "code",
   "execution_count": 8,
   "id": "8bb47f21-d028-45b0-a896-4b120fd2c1ee",
   "metadata": {},
   "outputs": [
    {
     "name": "stdout",
     "output_type": "stream",
     "text": [
      "ouput : \n",
      "현재 : 2021년 8월 24일 15시 1분 57초\n",
      "미래 : 2021년 10월 12일 16시 10분 4초\n"
     ]
    }
   ],
   "source": [
    "# 3. 특정 미래 출력 함수\n",
    "from datetime import timedelta\n",
    "\n",
    "def present_future():\n",
    "    day = datetime.datetime.now()\n",
    "    print(f\"ouput : \\n현재 : {day.year}년 {day.month}월 {day.day}일 {day.hour}시 {day.minute}분 {day.second}초\")\n",
    "\n",
    "    day = day + timedelta(weeks=7, hours=1, minutes=8, seconds=7)\n",
    "\n",
    "    print(f\"미래 : {day.year}년 {day.month}월 {day.day}일 {day.hour}시 {day.minute}분 {day.second}초\")\n",
    "    \n",
    "present_future()\n",
    "# Q. 이 문제에서 내장함수를 어디에 써야할지 모르겠습니다."
   ]
  },
  {
   "cell_type": "code",
   "execution_count": 9,
   "id": "4495785b-c288-47c0-ad62-037503286ee9",
   "metadata": {},
   "outputs": [
    {
     "name": "stdin",
     "output_type": "stream",
     "text": [
      "input :  rlawldbs0911@naver.com\n"
     ]
    },
    {
     "name": "stdout",
     "output_type": "stream",
     "text": [
      "output : 올바른 형식입니다.\n"
     ]
    }
   ],
   "source": [
    "# 4. 이메일 주소 형식 파악 함수\n",
    "# 계정@도메인.최상위도메인\n",
    "# 계정: 한 가지 이상의 문자로 표현되며, 영어 소문자와 대문자, 숫자, +,-,_,.의 특수문자만 포함\n",
    "# 도메인: @ 뒤에 나타나며 한 가지 이상의 문자로 표현되며, 영어 소문자와 대문자, 숫자, +,-,_,.의 특수문자만 포함\n",
    "# 최상위도메인: 가장 뒤에 나타나며 co.kr처럼 여러 단계일 수 있고, 영어 소문자와 대문자, 숫자만 포함\n",
    "import re\n",
    "\n",
    "def check_email():\n",
    "    input_email = input(\"input : \")\n",
    "    \n",
    "    # 계정 조건\n",
    "    # 1. 맨 앞\n",
    "    # 2. 한 가지 이상의 문자\n",
    "    # 3. 영문, 숫자, +-_.특수문자 허용\n",
    "    # ^[a-zA-Z0-9+-_.]+\n",
    "    \n",
    "    # 도메인 조건\n",
    "    # 1. @ 뒤\n",
    "    # 2. 한 가지 이상의 문자\n",
    "    # 3. 영문, 숫자, +-_.특수문자 허용\n",
    "    # @[a-zA-Z0-9+-_.]+\n",
    "    \n",
    "    # 최상위 도메인 조건\n",
    "    # 1. 도메인 뒤 + 맨 마지막\n",
    "    # 2. 영어, 숫자만 포함 (특수문자 비허용)\n",
    "    # \\.[a-zA-Z0-9.]+$\n",
    "    # 백슬래시를 사용하는 이유: .을 특수문자로 판단하기 위함 (도메인과 최상도메인 구분)\n",
    "    \n",
    "    complie_email = re.compile('^[a-zA-Z0-9+-_.]+@[a-zA-Z0-9-]+\\.[a-zA-Z0-9-.]+$')\n",
    "    match_email = complie_email.match(input_email)\n",
    "    \n",
    "    if match_email: # 제대로 매칭되는 경우\n",
    "        print('output : 올바른 형식입니다.')\n",
    "    else: # 제대로 매칭되지 않는 경우\n",
    "        print('이메일을 조건에 맞게 입력해주세요')\n",
    "        \n",
    "check_email()"
   ]
  },
  {
   "cell_type": "code",
   "execution_count": 12,
   "id": "81f542eb-7de5-4a01-a2c8-b1eb18205877",
   "metadata": {},
   "outputs": [
    {
     "name": "stdout",
     "output_type": "stream",
     "text": [
      "output : 메뉴를 선택해주세요.\n",
      "1. 입력\n",
      "2. 전체출력\n",
      "3. 영어로 검색\n",
      "4. 한글로 검색\n",
      "5. 종료\n",
      "\n"
     ]
    },
    {
     "name": "stdin",
     "output_type": "stream",
     "text": [
      "input :  1\n"
     ]
    },
    {
     "name": "stdout",
     "output_type": "stream",
     "text": [
      "\n",
      "output : 입력을 선택하셨습니다.\n",
      "[영단어:한글단어] 쌍으로 입력해주시고, 끝났다면 나가기를 입력해주세요.\n",
      "input :\n"
     ]
    },
    {
     "name": "stdin",
     "output_type": "stream",
     "text": [
      " apple:사과\n",
      " 사과:apple\n"
     ]
    },
    {
     "name": "stdout",
     "output_type": "stream",
     "text": [
      "[영단어:한글단어] 작성 방식을 지켜주세요.\n"
     ]
    },
    {
     "name": "stdin",
     "output_type": "stream",
     "text": [
      " banana:바나나\n",
      " 나가기\n"
     ]
    },
    {
     "name": "stdout",
     "output_type": "stream",
     "text": [
      "\n",
      "output : 메뉴를 선택해주세요.\n",
      "1. 입력\n",
      "2. 전체출력\n",
      "3. 영어로 검색\n",
      "4. 한글로 검색\n",
      "5. 종료\n",
      "\n"
     ]
    },
    {
     "name": "stdin",
     "output_type": "stream",
     "text": [
      "input :  2\n"
     ]
    },
    {
     "name": "stdout",
     "output_type": "stream",
     "text": [
      "output : 전체출력 결과입니다.\n",
      "apple:사과\n",
      "banana:바나나\n",
      "\n",
      "\n",
      "output : 메뉴를 선택해주세요.\n",
      "1. 입력\n",
      "2. 전체출력\n",
      "3. 영어로 검색\n",
      "4. 한글로 검색\n",
      "5. 종료\n",
      "\n"
     ]
    },
    {
     "name": "stdin",
     "output_type": "stream",
     "text": [
      "input :  3\n"
     ]
    },
    {
     "name": "stdout",
     "output_type": "stream",
     "text": [
      "\n",
      "output : 영어로 검색을 선택하셨습니다.\n",
      "영단어를 입력하세요.\n",
      "\n"
     ]
    },
    {
     "name": "stdin",
     "output_type": "stream",
     "text": [
      "input :  apple\n"
     ]
    },
    {
     "name": "stdout",
     "output_type": "stream",
     "text": [
      "output : 사과\n",
      "계속 검색 가능합니다.\n",
      "나가시려면 나가기를 입력해주세요.\n",
      "\n"
     ]
    },
    {
     "name": "stdin",
     "output_type": "stream",
     "text": [
      "input :  나가기\n"
     ]
    },
    {
     "name": "stdout",
     "output_type": "stream",
     "text": [
      "output : 메뉴를 선택해주세요.\n",
      "1. 입력\n",
      "2. 전체출력\n",
      "3. 영어로 검색\n",
      "4. 한글로 검색\n",
      "5. 종료\n",
      "\n"
     ]
    },
    {
     "name": "stdin",
     "output_type": "stream",
     "text": [
      "input :  4\n"
     ]
    },
    {
     "name": "stdout",
     "output_type": "stream",
     "text": [
      "\n",
      "output : 한글로 검색을 선택하셨습니다.\n",
      "한글단어를 입력하세요.\n",
      "\n"
     ]
    },
    {
     "name": "stdin",
     "output_type": "stream",
     "text": [
      "input :  바나나\n"
     ]
    },
    {
     "name": "stdout",
     "output_type": "stream",
     "text": [
      "output : banana\n",
      "계속 검색 가능합니다.\n",
      "나가시려면 나가기를 입력해주세요.\n",
      "\n"
     ]
    },
    {
     "name": "stdin",
     "output_type": "stream",
     "text": [
      "input :  나가기\n"
     ]
    },
    {
     "name": "stdout",
     "output_type": "stream",
     "text": [
      "output : 메뉴를 선택해주세요.\n",
      "1. 입력\n",
      "2. 전체출력\n",
      "3. 영어로 검색\n",
      "4. 한글로 검색\n",
      "5. 종료\n",
      "\n"
     ]
    },
    {
     "name": "stdin",
     "output_type": "stream",
     "text": [
      "input :  5\n"
     ]
    },
    {
     "name": "stdout",
     "output_type": "stream",
     "text": [
      "output : 사전을 종료합니다!\n"
     ]
    }
   ],
   "source": [
    "# 5. 영한사전 프로그램\n",
    "# Dictionary 자료구조\n",
    "\n",
    "# <입력>\n",
    "# <영어로 검색>\n",
    "# <한글로 검색>\n",
    "# <나가기>\n",
    "# <전체출력>\n",
    "# <종료>\n",
    "import re\n",
    "\n",
    "def en_dict():\n",
    "    \n",
    "    dictionary = {}\n",
    "    while True:\n",
    "        print(\"output : 메뉴를 선택해주세요.\")\n",
    "        print(\"1. 입력\")\n",
    "        print(\"2. 전체출력\")\n",
    "        print(\"3. 영어로 검색\")\n",
    "        print(\"4. 한글로 검색\")\n",
    "        print(\"5. 종료\\n\")\n",
    "\n",
    "        input_menu = input(\"input : \")\n",
    "\n",
    "        if input_menu == '입력' or input_menu == '1':\n",
    "            print(\"\\noutput : 입력을 선택하셨습니다.\")\n",
    "            print(\"[영단어:한글단어] 쌍으로 입력해주시고, 끝났다면 나가기를 입력해주세요.\")\n",
    "            print(\"input :\")\n",
    "            \n",
    "            while True:\n",
    "                dict_word = input() # ex) apple:사과\n",
    "\n",
    "                if dict_word == '나가기':\n",
    "                    print()\n",
    "                    break\n",
    "                if ':' in dict_word:\n",
    "                    # 영단어 작성 확인\n",
    "                    complie_eng_word = re.compile('[a-zA-Z]')\n",
    "                    match_eng_word = complie_eng_word.match(dict_word.split(':')[0])\n",
    "                    if match_eng_word:\n",
    "                        # 한글단어 작성 확인\n",
    "                        complie_kor_word = re.compile('[가-힣]')\n",
    "                        match_kor_word = complie_kor_word.match(dict_word.split(':')[1])\n",
    "                        if match_kor_word:\n",
    "                            dictionary[dict_word.split(':')[0]] = dict_word.split(':')[1]\n",
    "                        else:\n",
    "                            print('[영단어:한글단어] 작성 방식을 지켜주세요.')\n",
    "\n",
    "                    else:\n",
    "                        print('[영단어:한글단어] 작성 방식을 지켜주세요.')\n",
    "                else:\n",
    "                    print('[영단어:한글단어] 작성 방식을 지켜주세요.')\n",
    "\n",
    "\n",
    "        elif input_menu == '전체출력' or input_menu =='2':\n",
    "            print('output : 전체출력 결과입니다.')\n",
    "            for key, value in dictionary.items():\n",
    "                print(f\"{key}:{value}\")\n",
    "            print('\\n')    \n",
    "\n",
    "        elif input_menu == '영어로 검색' or input_menu =='3':\n",
    "            print('\\noutput : 영어로 검색을 선택하셨습니다.\\n영단어를 입력하세요.\\n')\n",
    "            while True:\n",
    "                try:\n",
    "                    eng_word = input(\"input : \")\n",
    "                    if eng_word == '나가기':\n",
    "                        break\n",
    "                    print(f\"output : {dictionary[eng_word]}\")\n",
    "                    print(\"계속 검색 가능합니다.\\n나가시려면 나가기를 입력해주세요.\\n\")\n",
    "                except KeyError:\n",
    "                    print(\"사전에 존재하는 영어단어를 입력해주세요.\\n\")\n",
    "                    # 메뉴들을 각각의 함수로 만들어 예외가 발생해도 다시 input으로 돌아갈 수 있게 만들고 싶습니다. 여기에 다시 반복문을 작성하면 코드가 너무 지저분해져서 작성은 하지 않았습니다. 한글로 검색 메뉴도 동일합니다.\n",
    "                    break\n",
    "        \n",
    "        elif input_menu == '한글로 검색' or input_menu=='4':\n",
    "            print('\\noutput : 한글로 검색을 선택하셨습니다.\\n한글단어를 입력하세요.\\n')\n",
    "            while True:\n",
    "                try:\n",
    "                    kor_word = input(\"input : \")\n",
    "                    if kor_word == '나가기':\n",
    "                        break\n",
    "                    for key, value in dictionary.items():\n",
    "                        if value == kor_word:\n",
    "                            print(f\"output : {key}\")\n",
    "                    print(\"계속 검색 가능합니다.\\n나가시려면 나가기를 입력해주세요.\\n\")\n",
    "                except KeyError:\n",
    "                    print(\"사전에 존재하는 한글단어를 입력해주세요.\\n\")\n",
    "                    break\n",
    "          \n",
    "        elif input_menu == '종료' or input_menu=='5':\n",
    "            print('output : 사전을 종료합니다!')\n",
    "            break\n",
    "        \n",
    "        else:\n",
    "            print(\"메뉴를 제대로 선택해주세요.\")\n",
    "\n",
    "en_dict()"
   ]
  }
 ],
 "metadata": {
  "kernelspec": {
   "display_name": "Python 3",
   "language": "python",
   "name": "python3"
  },
  "language_info": {
   "codemirror_mode": {
    "name": "ipython",
    "version": 3
   },
   "file_extension": ".py",
   "mimetype": "text/x-python",
   "name": "python",
   "nbconvert_exporter": "python",
   "pygments_lexer": "ipython3",
   "version": "3.7.11"
  }
 },
 "nbformat": 4,
 "nbformat_minor": 5
}
