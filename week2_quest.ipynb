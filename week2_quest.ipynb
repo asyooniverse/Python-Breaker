{
 "cells": [
  {
   "cell_type": "code",
   "execution_count": 7,
   "id": "e68e6f52-63d6-467d-85a1-739ddb46ce5d",
   "metadata": {},
   "outputs": [
    {
     "name": "stdout",
     "output_type": "stream",
     "text": [
      "53.3\n"
     ]
    }
   ],
   "source": [
    "# 변수 1\n",
    "hong_kor = 50\n",
    "hong_mat = 80\n",
    "hong_eng = 30\n",
    "hong_sum = hong_kor + hong_mat + hong_eng\n",
    "hong_avg = round(hong_sum/3, 1)\n",
    "print(hong_avg)"
   ]
  },
  {
   "cell_type": "code",
   "execution_count": 2,
   "id": "32d62ded-8ce9-4666-a621-8c1e5852f9a0",
   "metadata": {},
   "outputs": [
    {
     "name": "stdout",
     "output_type": "stream",
     "text": [
      "409298570은 짝수입니다.\n"
     ]
    }
   ],
   "source": [
    "# 변수 2\n",
    "natural = 409298570\n",
    "if natural%2 == 0:\n",
    "    print(f\"{natural}은 짝수입니다.\")\n",
    "else:\n",
    "    print(f\"{natural}은 짝수가 아닙니다.\")"
   ]
  },
  {
   "cell_type": "code",
   "execution_count": 3,
   "id": "0c56b415-ec21-4685-b865-853322196be9",
   "metadata": {},
   "outputs": [
    {
     "name": "stdout",
     "output_type": "stream",
     "text": [
      "국어, 수학, 영어, 프로그래밍\n"
     ]
    }
   ],
   "source": [
    "# 변수 3\n",
    "string = \"국어:수학:영어:프로그래밍\"\n",
    "print(string.replace(\":\",\", \"))"
   ]
  },
  {
   "cell_type": "code",
   "execution_count": 4,
   "id": "04ddc2c2-6a52-48f2-8fff-045498e24a76",
   "metadata": {},
   "outputs": [
    {
     "name": "stdout",
     "output_type": "stream",
     "text": [
      "[5, 80, 3, 70, 1]\n"
     ]
    }
   ],
   "source": [
    "# 변수 4\n",
    "num_list = [1, 70, 3, 80, 5]\n",
    "num_list.reverse()\n",
    "print(num_list)"
   ]
  },
  {
   "cell_type": "code",
   "execution_count": 5,
   "id": "3a87b18c-381d-43b3-9fc9-8e1d131db559",
   "metadata": {},
   "outputs": [
    {
     "name": "stdout",
     "output_type": "stream",
     "text": [
      "파이썬은 정말 편하다\n"
     ]
    }
   ],
   "source": [
    "# 변수 5\n",
    "string_list = ['파이썬은','정말','편하다']\n",
    "string_list = \" \".join(string_list)\n",
    "print(string_list)"
   ]
  },
  {
   "cell_type": "code",
   "execution_count": 6,
   "id": "aa985a3f-34c4-46d0-b1ff-ba96c9e20f17",
   "metadata": {},
   "outputs": [
    {
     "name": "stdout",
     "output_type": "stream",
     "text": [
      "[1, 3, 4, 5, 10, 50, 410]\n"
     ]
    }
   ],
   "source": [
    "# 변수 6\n",
    "num_list = [1, 50, 410, 10, 3, 4, 5]\n",
    "print(sorted(num_list))"
   ]
  },
  {
   "cell_type": "code",
   "execution_count": 9,
   "id": "a80cd821-d985-45b4-a9f3-3fc53faaf846",
   "metadata": {},
   "outputs": [
    {
     "name": "stdout",
     "output_type": "stream",
     "text": [
      "I love python.\n"
     ]
    }
   ],
   "source": [
    "# 변수 7\n",
    "love_str = \" I love python. \"\n",
    "print(love_str.strip())"
   ]
  },
  {
   "cell_type": "code",
   "execution_count": 10,
   "id": "48112461-b72b-4a82-8e3e-c1d8a0556f0f",
   "metadata": {},
   "outputs": [
    {
     "name": "stdout",
     "output_type": "stream",
     "text": [
      "5050\n"
     ]
    }
   ],
   "source": [
    "# 제어문 1\n",
    "sum_num = 0;\n",
    "for i in range(100):\n",
    "    sum_num = sum_num + (i+1)\n",
    "print(sum_num)"
   ]
  },
  {
   "cell_type": "code",
   "execution_count": 11,
   "id": "746796b6-10de-4d1a-bd11-ea488e7bb463",
   "metadata": {},
   "outputs": [
    {
     "name": "stdout",
     "output_type": "stream",
     "text": [
      "5050\n"
     ]
    }
   ],
   "source": [
    "# 제어문 2\n",
    "start_num = 1\n",
    "sum_num = 0\n",
    "while start_num <=100:\n",
    "    sum_num = sum_num + start_num\n",
    "    start_num += 1\n",
    "print(sum_num)"
   ]
  },
  {
   "cell_type": "code",
   "execution_count": 12,
   "id": "987225b8-10e3-40c0-ac8e-9e83bc263780",
   "metadata": {},
   "outputs": [
    {
     "name": "stdout",
     "output_type": "stream",
     "text": [
      "1683\n"
     ]
    }
   ],
   "source": [
    "# 제어문 3\n",
    "sum_num = 0\n",
    "for i in range(100):\n",
    "    if (i+1)%3 == 0:\n",
    "        sum_num = sum_num + (i+1)\n",
    "print(sum_num)"
   ]
  },
  {
   "cell_type": "code",
   "execution_count": 13,
   "id": "4aadea3c-c48d-46c0-a92d-031e79a3da43",
   "metadata": {},
   "outputs": [
    {
     "name": "stdout",
     "output_type": "stream",
     "text": [
      "79.0\n"
     ]
    }
   ],
   "source": [
    "# 제어문 4\n",
    "score_list = [70, 60, 55, 75, 95, 90, 80, 80, 85, 100]\n",
    "score_sum = 0\n",
    "for score in score_list:\n",
    "    score_sum = score_sum + score\n",
    "score_avg = score_sum/len(score_list)\n",
    "print(score_avg)"
   ]
  },
  {
   "cell_type": "code",
   "execution_count": 8,
   "id": "73a57cea-3029-4982-bc2d-c3ffe6ee1352",
   "metadata": {},
   "outputs": [
    {
     "name": "stdout",
     "output_type": "stream",
     "text": [
      "[2, 6, 10, 40, 90, 100, 2020]\n"
     ]
    }
   ],
   "source": [
    "# 제어문 5\n",
    "num_list = [1, 3, 5, 40, 90, 100, 2020]\n",
    "for i in range(len(num_list)):\n",
    "    if num_list[i]%2 != 0:\n",
    "        num_list[i] = num_list[i]*2\n",
    "print(num_list)"
   ]
  },
  {
   "cell_type": "code",
   "execution_count": 14,
   "id": "ff053922-ba26-4c33-aa7a-72dc6716fda4",
   "metadata": {},
   "outputs": [
    {
     "name": "stdout",
     "output_type": "stream",
     "text": [
      "* \n",
      "** \n",
      "*** \n",
      "**** \n",
      "***** \n"
     ]
    }
   ],
   "source": [
    "# 제어문 6\n",
    "for i in range(5):\n",
    "    for j in range(i+1):\n",
    "        print(\"*\", end='')\n",
    "    print(\" \")"
   ]
  },
  {
   "cell_type": "code",
   "execution_count": 15,
   "id": "062d92bd-a0c6-4514-a71e-2bb3a10578f9",
   "metadata": {},
   "outputs": [
    {
     "name": "stdin",
     "output_type": "stream",
     "text": [
      "점수를 입력해주세요:  85\n"
     ]
    },
    {
     "name": "stdout",
     "output_type": "stream",
     "text": [
      "등급: A\n"
     ]
    }
   ],
   "source": [
    "# 함수와 입출력 1\n",
    "def return_grade(score):\n",
    "    if score >= 80:\n",
    "        return 'A'\n",
    "    elif score >= 50:\n",
    "        return 'B'\n",
    "    elif score >= 30:\n",
    "        return 'C'\n",
    "    else:\n",
    "        return 'F'\n",
    "# try-except 문을 사용하여 숫자가 아닌 문자열을\n",
    "# 입력했을 때 예외를 처리하고 싶습니다.\n",
    "\n",
    "score = int(input(\"점수를 입력해주세요: \"))\n",
    "print(f\"등급: {return_grade(score)}\")"
   ]
  },
  {
   "cell_type": "code",
   "execution_count": 16,
   "id": "31b090e1-4700-48d3-b57a-b41b760cd426",
   "metadata": {},
   "outputs": [
    {
     "name": "stdin",
     "output_type": "stream",
     "text": [
      "숫자를 입력해주세요:  3\n"
     ]
    },
    {
     "name": "stdout",
     "output_type": "stream",
     "text": [
      "False\n"
     ]
    }
   ],
   "source": [
    "# 함수와 입출력 2\n",
    "def odd_even(number):\n",
    "    if number == 0:\n",
    "        print(\"0은 홀수도 짝수도 아닙니다\")\n",
    "    elif number%2 == 0:\n",
    "        print(\"True\")\n",
    "    else:\n",
    "        print(\"False\")\n",
    "        \n",
    "number = int(input(\"숫자를 입력해주세요: \"))\n",
    "odd_even(number)"
   ]
  },
  {
   "cell_type": "code",
   "execution_count": 20,
   "id": "3ee9ff54-5c81-493a-aaaa-ee8814cf5db3",
   "metadata": {},
   "outputs": [
    {
     "name": "stdin",
     "output_type": "stream",
     "text": [
      "주민등록번호를 입력해주세요(-포함):  970710-1234567\n"
     ]
    },
    {
     "name": "stdout",
     "output_type": "stream",
     "text": [
      "97년생, 남자\n"
     ]
    }
   ],
   "source": [
    "# 함수와 입출력 3\n",
    "# 주민등록번호 의미를 갖지 않는 변수명이지만\n",
    "# 변수명이 길어지면 코드가 지저분해질 것 같아서 number로 작성했습니다\n",
    "\n",
    "def check_regist_num(number):\n",
    "    if not(len(number) == 14 and number[6] == \"-\" and number[:6].isnumeric() and number[7:].isnumeric()):\n",
    "        return \"주민등록번호를 올바르게 입력해주세요\"\n",
    "    if int(number[2:4])>12 or int(number[2:4])<1:\n",
    "        return \"생월을 제대로 입력해주세요\"\n",
    "    \n",
    "    month = int(number[2:4]) \n",
    "    month_thirty_one = [1, 3, 5, 7, 8, 10, 12]\n",
    "    month_thirty = [4, 6, 9, 11]\n",
    "    \n",
    "    if month in month_thirty_one:\n",
    "        if int(number[4:6])>31 or int(number[4:6])<1:\n",
    "            return \"생일을 제대로 입력해주세요\"\n",
    "    elif month in month_thirty:\n",
    "        if int(number[4:6])>30 or int(number[4:6])<1:\n",
    "            return \"생일을 제대로 입력해주세요\"\n",
    "    else:\n",
    "        if int(number[4:6])>29 or int(number[4:6])<1:\n",
    "            return \"생일을 제대로 입력해주세요\"\n",
    "    \n",
    "    year_num =''\n",
    "    if int(number[:2]) <= 21:\n",
    "        while True:\n",
    "            answer = input(\"2000년 이후 출생자인가요? 맞으면 o 아니면 x : \")\n",
    "            if answer == \"o\" or answer == 'O':\n",
    "                year_num = \"20\"\n",
    "                break\n",
    "            elif answer == \"x\" or answer == 'X':\n",
    "                year_num = \"19\"\n",
    "                break \n",
    "                \n",
    "    if year_num == \"19\":\n",
    "        if number[7] != \"1\" and number[7] != \"2\":\n",
    "            return \"주민등록번호 뒷자리를 제대로 입력해주세요\"\n",
    "    elif year_num == \"20\":\n",
    "        if number[7] != \"3\" and number[7] != \"4\":\n",
    "            return \"주민등록번호 뒷자리를 제대로 입력해주세요\"\n",
    "\n",
    "    if number[7] == \"1\" or number[7] == \"3\":\n",
    "        gender = \"남자\"\n",
    "    elif number[7] == \"2\" or number[7] == \"4\":\n",
    "        gender = \"여자\"\n",
    "        \n",
    "    print(f\"{number[0:2]}년생, {gender}\")\n",
    "\n",
    "    \n",
    "regist_num = input(\"주민등록번호를 입력해주세요(-포함): \")\n",
    "check_regist_num(regist_num)"
   ]
  },
  {
   "cell_type": "code",
   "execution_count": 21,
   "id": "53b18511-4a0e-4cd6-a948-4784c08294b8",
   "metadata": {},
   "outputs": [
    {
     "name": "stdin",
     "output_type": "stream",
     "text": [
      "수식을 입력하세요:  123+456\n"
     ]
    },
    {
     "name": "stdout",
     "output_type": "stream",
     "text": [
      "결과: 579\n"
     ]
    }
   ],
   "source": [
    "# 함수와 입출력 4\n",
    "def calculate():\n",
    "    numnum = input(\"수식을 입력하세요: \")\n",
    "    #덧셈\n",
    "    if '+' in numnum:\n",
    "        index = numnum.find('+')\n",
    "        add = int(numnum[:index]) + int(numnum[index+1:])\n",
    "        print(f\"결과: {add}\")\n",
    "    #뺄셈\n",
    "    elif '-' in numnum:\n",
    "        index = numnum.find('-')\n",
    "        sub = int(numnum[:index]) - int(numnum[index+1:])\n",
    "        print(f\"결과: {sub}\")\n",
    "    #곱셈\n",
    "    elif 'x' in numnum or '*' in numnum:\n",
    "        index = ''\n",
    "        if 'x' in numnum:\n",
    "            index = numnum.find('x')\n",
    "        elif '*' in numnum:\n",
    "            index = numnum.find('*')\n",
    "        mul = int(numnum[:index]) * int(numnum[index+1:])\n",
    "        print(f\"결과: {mul}\")\n",
    "    #나눗셈\n",
    "    elif '/' in numnum:\n",
    "        index = numnum.find('/')\n",
    "        if numnum[index+1:] == '0':\n",
    "            print(\"0으로 나눌 수 없습니다.\")\n",
    "        else:\n",
    "            div = int(int(numnum[:index]) / int(numnum[index+1:]))\n",
    "            rem = int(numnum[:index]) % int(numnum[index+1:])\n",
    "            print(f\"몫: {div}, 나머지: {rem}\")\n",
    "            \n",
    "calculate()"
   ]
  },
  {
   "cell_type": "code",
   "execution_count": 22,
   "id": "3773321d-6c9b-4458-ad4a-77867eb954ca",
   "metadata": {},
   "outputs": [
    {
     "name": "stdin",
     "output_type": "stream",
     "text": [
      "금액을 입력해주세요:  6890\n"
     ]
    },
    {
     "name": "stdout",
     "output_type": "stream",
     "text": [
      "5000원 : 1장\n",
      "1000원 : 1장\n",
      "500원 : 1장\n",
      "100원 : 3장\n",
      "50원 : 1장\n",
      "10원 : 4장\n"
     ]
    }
   ],
   "source": [
    "# 함수와 입출력 5\n",
    "def change_money(money):\n",
    "    money_5000 = int(money/5000)\n",
    "    money = money%5000\n",
    "    \n",
    "    money_1000 = int(money/1000)\n",
    "    money = money%1000\n",
    "    \n",
    "    money_500 = int(money/500)\n",
    "    money = money%500\n",
    "    \n",
    "    money_100 = int(money/100)\n",
    "    money = money%100\n",
    "    \n",
    "    money_50 = int(money/50)\n",
    "    money = money%50\n",
    "    \n",
    "    money_10 = int(money/10)\n",
    "    \n",
    "    print(f\"5000원 : {money_5000}장\")\n",
    "    print(f\"1000원 : {money_1000}장\")\n",
    "    print(f\"500원 : {money_500}장\")\n",
    "    print(f\"100원 : {money_100}장\")\n",
    "    print(f\"50원 : {money_50}장\")\n",
    "    print(f\"10원 : {money_10}장\")\n",
    "\n",
    "money = int(input(\"금액을 입력해주세요: \"))\n",
    "change_money(money)"
   ]
  },
  {
   "cell_type": "code",
   "execution_count": 34,
   "id": "ea90226b-3a67-4c54-8e27-76db4af1391b",
   "metadata": {},
   "outputs": [
    {
     "name": "stdin",
     "output_type": "stream",
     "text": [
      "방정식을 입력해주세요(예시.1x^2+6x-27):  1x^2+6x-27\n"
     ]
    },
    {
     "name": "stdout",
     "output_type": "stream",
     "text": [
      "1\n",
      "6\n",
      "-27\n",
      "첫번째 근: 3.0, 두번째 근: -9.0\n"
     ]
    }
   ],
   "source": [
    "# 함수와 입출력 6\n",
    "import math\n",
    "\n",
    "# 계산식은 구글링 했습니다\n",
    "def quadratic_equation(a, b, c):\n",
    "    \n",
    "    first_solution = ((-b + (math.sqrt(math.pow(b,2) - 4 * a * c)))/2 * a)\n",
    "    second_solution = ((-b - (math.sqrt(math.pow(b,2) - 4 * a * c)))/2 * a)\n",
    "\n",
    "    return f\"첫번째 근: {first_solution}, 두번째 근: {second_solution}\"\n",
    "\n",
    "\n",
    "equation = input(\"방정식을 입력해주세요(예시.1x^2+6x-27): \")\n",
    "\n",
    "power_x = equation.find(\"x\") # x^2 찾기\n",
    "a = int(equation[:power_x])\n",
    "print(a)\n",
    "\n",
    "linear_x = equation.find(\"x\", power_x+1) # x 찾기\n",
    "b = int(equation[power_x+3:linear_x]) # +3인 이유: ^2를 넘어가기 위해\n",
    "print(b)\n",
    "\n",
    "c = int(equation[linear_x+1:])\n",
    "print(c)\n",
    "\n",
    "D = b**2 - 4*a*c\n",
    "if D>=0:\n",
    "    print(quadratic_equation(a, b, c))\n",
    "else:\n",
    "    print(\"허근입니다.\")"
   ]
  }
 ],
 "metadata": {
  "kernelspec": {
   "display_name": "Python 3",
   "language": "python",
   "name": "python3"
  },
  "language_info": {
   "codemirror_mode": {
    "name": "ipython",
    "version": 3
   },
   "file_extension": ".py",
   "mimetype": "text/x-python",
   "name": "python",
   "nbconvert_exporter": "python",
   "pygments_lexer": "ipython3",
   "version": "3.7.11"
  }
 },
 "nbformat": 4,
 "nbformat_minor": 5
}
